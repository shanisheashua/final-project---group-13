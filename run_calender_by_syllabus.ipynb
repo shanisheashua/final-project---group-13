{
 "cells": [
  {
   "cell_type": "code",
   "execution_count": 1,
   "id": "a119b3f2-9a39-4e7a-befe-57e12395ba17",
   "metadata": {},
   "outputs": [
    {
     "name": "stdin",
     "output_type": "stream",
     "text": [
      "\n",
      "Please choose a subject:\n",
      "   1 for python \n",
      "   2 for physics\n",
      " 1\n"
     ]
    },
    {
     "name": "stdout",
     "output_type": "stream",
     "text": [
      "\n",
      "Enter the details for subject: Data Structures\n"
     ]
    },
    {
     "name": "stdin",
     "output_type": "stream",
     "text": [
      "  Topic Weight/Importance (1-5) for Data Structures:  1\n",
      "  Difficulty (1-5) for Data Structures:  1\n",
      "  Independence (1-5) for Data Structures:  1\n",
      "  Previous Knowledge (1-5) for Data Structures:  1\n"
     ]
    },
    {
     "name": "stdout",
     "output_type": "stream",
     "text": [
      "\n",
      "Enter the details for subject: Recursion\n"
     ]
    },
    {
     "name": "stdin",
     "output_type": "stream",
     "text": [
      "  Topic Weight/Importance (1-5) for Recursion:  5\n",
      "  Difficulty (1-5) for Recursion:  5\n",
      "  Independence (1-5) for Recursion:  5\n",
      "  Previous Knowledge (1-5) for Recursion:  5\n"
     ]
    },
    {
     "name": "stdout",
     "output_type": "stream",
     "text": [
      "\n",
      "Enter the details for subject: OOP\n"
     ]
    },
    {
     "name": "stdin",
     "output_type": "stream",
     "text": [
      "  Topic Weight/Importance (1-5) for OOP:  5\n",
      "  Difficulty (1-5) for OOP:  5\n",
      "  Independence (1-5) for OOP:  1\n",
      "  Previous Knowledge (1-5) for OOP:  1\n"
     ]
    },
    {
     "name": "stdout",
     "output_type": "stream",
     "text": [
      "\n",
      "Enter the details for subject: Pandas\n"
     ]
    },
    {
     "name": "stdin",
     "output_type": "stream",
     "text": [
      "  Topic Weight/Importance (1-5) for Pandas:  1\n",
      "  Difficulty (1-5) for Pandas:  1\n",
      "  Independence (1-5) for Pandas:  5\n",
      "  Previous Knowledge (1-5) for Pandas:  5\n"
     ]
    },
    {
     "name": "stdout",
     "output_type": "stream",
     "text": [
      "\n",
      "Enter the details for subject: NumPy\n"
     ]
    },
    {
     "name": "stdin",
     "output_type": "stream",
     "text": [
      "  Topic Weight/Importance (1-5) for NumPy:  3\n",
      "  Difficulty (1-5) for NumPy:  3\n",
      "  Independence (1-5) for NumPy:  3\n",
      "  Previous Knowledge (1-5) for NumPy:  3\n",
      "\n",
      "Enter the number of days:  5\n"
     ]
    },
    {
     "name": "stdout",
     "output_type": "stream",
     "text": [
      "\n",
      "_____________________________\n",
      "\n",
      "Suggested hours for topic Data Structures: 7.42\n",
      "Suggested hours for topic Recursion: 11.84\n",
      "Suggested hours for topic OOP: 13.08\n",
      "Suggested hours for topic Pandas: 6.55\n",
      "Suggested hours for topic NumPy: 8.87\n",
      "\n",
      "Calendar file created: study_schedule.ics\n",
      "\n",
      "GOOD LUCK! :)\n"
     ]
    }
   ],
   "source": [
    "%run calendar_by_syllabus.ipynb"
   ]
  }
 ],
 "metadata": {
  "kernelspec": {
   "display_name": "Python 3 (ipykernel)",
   "language": "python",
   "name": "python3"
  },
  "language_info": {
   "codemirror_mode": {
    "name": "ipython",
    "version": 3
   },
   "file_extension": ".py",
   "mimetype": "text/x-python",
   "name": "python",
   "nbconvert_exporter": "python",
   "pygments_lexer": "ipython3",
   "version": "3.13.1"
  }
 },
 "nbformat": 4,
 "nbformat_minor": 5
}
